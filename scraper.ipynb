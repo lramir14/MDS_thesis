{
 "cells": [
  {
   "cell_type": "code",
   "execution_count": 32,
   "metadata": {},
   "outputs": [],
   "source": [
    "import csv\n",
    "import pandas as pd \n",
    "from selenium import webdriver\n",
    "from selenium.webdriver.chrome.service import Service\n",
    "from selenium.webdriver.common.by import By\n",
    "from selenium.webdriver.support.ui import WebDriverWait\n",
    "from selenium.webdriver.support import expected_conditions as EC\n",
    "\n",
    "chromedriver_path = r'C:\\Users\\luisf\\Desktop\\MDS_thesis\\scraper_gn\\chromedriver-win64\\chromedriver.exe'\n",
    "service = Service(chromedriver_path)\n",
    "driver = webdriver.Chrome(service=service)"
   ]
  },
  {
   "cell_type": "code",
   "execution_count": 33,
   "metadata": {},
   "outputs": [],
   "source": [
    "search_query = \"amlo dice\"\n",
    "start_date = \"2018-12-03\"\n",
    "end_date = \"2024-09-22\"\n",
    "\n",
    "url = f'https://www.google.com/search?q={search_query}+after:{start_date}+before:{end_date}&tbm=nws'\n",
    "\n",
    "driver.get(url)\n"
   ]
  },
  {
   "cell_type": "code",
   "execution_count": 39,
   "metadata": {},
   "outputs": [],
   "source": [
    "# Initialize an empty list to hold the results\n",
    "news_data = []\n",
    "\n",
    "# Set a limit for the number of articles\n",
    "limit = 100\n",
    "count = 0\n",
    "current_page = 1\n",
    "\n",
    "while current_page <= max_pages:\n",
    "    print(f\"Scraping page {current_page}\")\n",
    "    \n",
    "    # Wait for the news results to load\n",
    "    WebDriverWait(driver, 10).until(EC.presence_of_all_elements_located((By.CSS_SELECTOR, 'div.SoaBEf')))\n",
    "    \n",
    "    # Select all news article blocks by targeting the SoaBEf class\n",
    "    news_results = driver.find_elements(By.CSS_SELECTOR, 'div.SoaBEf')\n",
    "    \n",
    "    for news_div in news_results:\n",
    "        if count >= limit:\n",
    "            break  # Stop if we've reached the limit\n",
    "\n",
    "        news_item = []\n",
    "        try:\n",
    "            # Extract the link to the article\n",
    "            news_link = news_div.find_element(By.TAG_NAME, 'a').get_attribute('href')\n",
    "\n",
    "            # Extract the title of the article (div with role=\"heading\")\n",
    "            news_title = news_div.find_element(By.CSS_SELECTOR, 'div[role=\"heading\"]').text\n",
    "\n",
    "            # Extract the source domain (usually at the beginning of the div)\n",
    "            news_domain = news_div.find_element(By.CSS_SELECTOR, 'span.XTjFC').text\n",
    "\n",
    "            # Extract the description (after the heading div)\n",
    "            news_description = news_div.find_element(By.CSS_SELECTOR, 'div > div > div:nth-child(2)').text\n",
    "\n",
    "            # Extract the date\n",
    "            news_date = news_div.find_element(By.CSS_SELECTOR, 'span.WG9SHc').text\n",
    "\n",
    "            # Append the collected information to the list\n",
    "            news_data.append([news_link, news_domain, news_title, news_description, news_date])\n",
    "            count += 1  # Increment the count of news articles\n",
    "\n",
    "        except Exception as e:\n",
    "            print(\"Error scraping:\", e)\n",
    "\n",
    "    # Try to locate the \"Next\" button and click it\n",
    "    try:\n",
    "        next_button = driver.find_element(By.CSS_SELECTOR, 'a#pnnext')  # Google uses \"pnnext\" for the next page button\n",
    "        next_button.click()\n",
    "        current_page += 1\n",
    "        time.sleep(3)  # Adding a short sleep to wait for the next page to load\n",
    "    except Exception as e:\n",
    "        print(\"No more pages or error:\", e)\n",
    "        break  # Exit the loop if there's no next button or an error occurs\n",
    "            \n"
   ]
  },
  {
   "cell_type": "code",
   "execution_count": 40,
   "metadata": {},
   "outputs": [
    {
     "name": "stdout",
     "output_type": "stream",
     "text": [
      "[['https://www.bbc.com/mundo/articles/cv22e6g3x59o', 'BBC\\nAMLO: los 4 pilares que explican su alta popularidad tras 6 años gobernando México (y cómo lo ven sus críticos)\\nA cuatro meses del fin de su mandato, el presidente de México, Andrés Manuel López Obrador, tiene una aprobación cercana al 60%, una cifra que muchos...\\n.\\n29 may 2024', 'AMLO: los 4 pilares que explican su alta popularidad tras 6 años gobernando México (y cómo lo ven sus críticos)', 'A cuatro meses del fin de su mandato, el presidente de México, Andrés Manuel López Obrador, tiene una aprobación cercana al 60%, una cifra que muchos...', 'BBC'], ['https://www.dw.com/es/amlo-no-reconoce-triunfo-de-maduro-y-dice-esperar-las-actas/a-70036261', 'DW\\nAMLO no reconoce triunfo de Maduro y dice esperar las actas\\nEl gobernante mexicano no se ha sumado al rechazo conjunto que el viernes (23.8. 2024) hicieron Chile, Argentina, Costa Rica, Ecuador, Estados Unidos, Guatemala...\\n.\\nhace 1 mes', 'AMLO no reconoce triunfo de Maduro y dice esperar las actas', 'El gobernante mexicano no se ha sumado al rechazo conjunto que el viernes (23.8. 2024) hicieron Chile, Argentina, Costa Rica, Ecuador, Estados Unidos, Guatemala...', 'DW'], ['https://www.forbes.com.mx/amlo-dice-que-aun-hace-falta-que-venezuela-difunda-los-resultados-completos/', 'Forbes México\\nAMLO dice que aún ‘hace falta’ que Venezuela difunda los resultados completos\\nEl presidente Andrés Manuel López Obrador consideró este martes que aún “hace falta” que el Consejo Nacional Electoral (CNE) de Venezuela difunda los resultados...\\n.\\nhace 1 mes', 'AMLO dice que aún ‘hace falta’ que Venezuela difunda los resultados completos', 'El presidente Andrés Manuel López Obrador consideró este martes que aún “hace falta” que el Consejo Nacional Electoral (CNE) de Venezuela difunda los resultados...', 'Forbes México'], ['https://www.elfinanciero.com.mx/nacional/2024/09/01/ni-dinamarca-por-que-amlo-dice-que-el-sistema-de-salud-de-mexico-es-mejor/', 'El Financiero\\nNi Dinamarca: ¿Por qué AMLO dice que el sistema de salud de México es mejor?\\nLópez Obrador rindió este domingo su último Informe de Gobierno, en el que defendió su modelo del Instituto Mexicano del Seguro Social y del IMSS Bienestar.\\n.\\nhace 3 semanas', 'Ni Dinamarca: ¿Por qué AMLO dice que el sistema de salud de México es mejor?', 'López Obrador rindió este domingo su último Informe de Gobierno, en el que defendió su modelo del Instituto Mexicano del Seguro Social y del IMSS Bienestar.', 'El Financiero'], ['https://www.infobae.com/mexico/2024/08/19/esto-dice-la-carta-que-amlo-envio-a-joe-biden-sobre-el-presunto-financiamiento-de-eeuu-a-la-oposicion/', 'Infobae\\nEsto dice la carta que AMLO envió a Joe Biden sobre el presunto financiamiento de EEUU a la oposición\\nEn la carta el mandatario federal aseguró que se trata de una “actitud injerencista” por parte del gobierno de los Estados Unidos que se destinen recursos a...\\n.\\nhace 1 mes', 'Esto dice la carta que AMLO envió a Joe Biden sobre el presunto financiamiento de EEUU a la oposición', 'En la carta el mandatario federal aseguró que se trata de una “actitud injerencista” por parte del gobierno de los Estados Unidos que se destinen recursos a...', 'Infobae'], ['https://www.eleconomista.com.mx/politica/AMLO-dice-que-Ecuador-sintio-el-respaldo-de-otros-paises-para-asaltar-la-embajada-en-Quito-20240409-0027.html', 'El Economista\\nAMLO dice que Ecuador sintió el \"respaldo de otros países\" para asaltar la embajada en Quito\\nEl presidente Andrés Manuel López Obrador afirmó este martes que un gobierno no toma por asalto una embajada si no siente que tiene el respaldo de otros...\\n.\\n9 abr 2024', 'AMLO dice que Ecuador sintió el \"respaldo de otros países\" para asaltar la embajada en Quito', 'El presidente Andrés Manuel López Obrador afirmó este martes que un gobierno no toma por asalto una embajada si no siente que tiene el respaldo de otros...', 'El Economista'], ['https://www.eluniversal.com.mx/nacion/amlo-dice-que-por-el-momento-no-dialogara-con-lula-da-silva-y-gustavo-petro-sobre-crisis-politica-en-venezuela/', 'El Universal\\nAMLO dice que por el momento no dialogará con Lula da Silva y Gustavo Petro sobre crisis política en Venezuela\\nEl presidente Andrés Manuel López Obrador aseguró que por el momento no dialogará con sus homólogos de Brasil, Luiz Inácio Lula da Silva, y Gustavo Petro, de...\\n.\\nhace 1 mes', 'AMLO dice que por el momento no dialogará con Lula da Silva y Gustavo Petro sobre crisis política en Venezuela', 'El presidente Andrés Manuel López Obrador aseguró que por el momento no dialogará con sus homólogos de Brasil, Luiz Inácio Lula da Silva, y Gustavo Petro, de...', 'El Universal'], ['https://nuso.org/articulo/amlo-contradicciones/', 'Nueva Sociedad\\nAMLO y sus contradicciones\\nEl presidente mexicano ha venido caminando en la cuerda floja, equilibrando las tendencias opuestas del populismo: la ampliación de la democracia y el...\\n.\\n15 jun 2022', 'AMLO y sus contradicciones', 'El presidente mexicano ha venido caminando en la cuerda floja, equilibrando las tendencias opuestas del populismo: la ampliación de la democracia y el...', 'Nueva Sociedad'], ['https://animalpolitico.com/2020/05/llamadas-falsas-violencia-mujeres-amlo', 'Animal Politico\\nAMLO dice que el 90% de las llamadas sobre violencia contra las mujeres son falsas\\n“No quiero decir que no existe la violencia contra las mujeres, pero el 90% de las llamadas que registran por violencia contra mujeres son falsas”, aseguró en...\\n.\\n15 may 2020', 'AMLO dice que el 90% de las llamadas sobre violencia contra las mujeres son falsas', '“No quiero decir que no existe la violencia contra las mujeres, pero el 90% de las llamadas que registran por violencia contra mujeres son falsas”, aseguró en...', 'Animal Politico'], ['https://elpais.com/mexico/2023-11-09/el-mensaje-de-lopez-obrador-a-marcelo-ebrard-quien-no-piensa-en-el-pueblo-es-un-oportunista.html', 'EL PAÍS\\nEl mensaje de López Obrador a Marcelo Ebrard: “Quien no piensa en el pueblo es un oportunista”\\nEl presidente dice que el excanciller es “libre” de decidir sobre su futuro político y asegura que no va a presionarlo para que se quede en Morena: “Todo...\\n.\\n9 nov 2023', 'El mensaje de López Obrador a Marcelo Ebrard: “Quien no piensa en el pueblo es un oportunista”', 'El presidente dice que el excanciller es “libre” de decidir sobre su futuro político y asegura que no va a presionarlo para que se quede en Morena: “Todo...', 'EL PAÍS']]\n",
      "10\n"
     ]
    }
   ],
   "source": [
    "print(news_data)\n",
    "print(len(news_data))"
   ]
  },
  {
   "cell_type": "code",
   "execution_count": 36,
   "metadata": {},
   "outputs": [
    {
     "name": "stdout",
     "output_type": "stream",
     "text": [
      "                                              Link Domain  \\\n",
      "0  https://www.bbc.com/mundo/articles/cv22e6g3x59o    BBC   \n",
      "\n",
      "                                               Title  \\\n",
      "0  AMLO: los 4 pilares que explican su alta popul...   \n",
      "\n",
      "                                         Description         Date  \n",
      "0  A cuatro meses del fin de su mandato, el presi...  29 may 2024  \n",
      "1\n"
     ]
    }
   ],
   "source": [
    "df = pd.DataFrame(news_data, columns=[\"Link\", \"Domain\", \"Title\", \"Description\", \"Date\"])\n",
    "print(df)\n",
    "print(len(df))"
   ]
  },
  {
   "cell_type": "code",
   "execution_count": null,
   "metadata": {},
   "outputs": [],
   "source": [
    "\n",
    "# Save the results to a CSV file\n",
    "csv_file_path = \"news_results.csv\"\n",
    "with open(csv_file_path, mode='w', newline='', encoding='utf-8') as file:\n",
    "    writer = csv.writer(file)\n",
    "    # Write the header row\n",
    "    writer.writerow([\"Link\", \"Domain\", \"Title\", \"Description\", \"Date\"])\n",
    "    # Write the news data\n",
    "    writer.writerows(news_data)\n",
    "\n",
    "driver.quit()\n",
    "\n",
    "print(f\"Results saved to {csv_file_path}\")"
   ]
  }
 ],
 "metadata": {
  "kernelspec": {
   "display_name": "scraper",
   "language": "python",
   "name": "python3"
  },
  "language_info": {
   "codemirror_mode": {
    "name": "ipython",
    "version": 3
   },
   "file_extension": ".py",
   "mimetype": "text/x-python",
   "name": "python",
   "nbconvert_exporter": "python",
   "pygments_lexer": "ipython3",
   "version": "3.12.5"
  }
 },
 "nbformat": 4,
 "nbformat_minor": 2
}
